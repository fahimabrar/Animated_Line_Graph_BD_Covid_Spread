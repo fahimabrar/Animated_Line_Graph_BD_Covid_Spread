{
 "cells": [
  {
   "cell_type": "code",
   "execution_count": 2,
   "metadata": {},
   "outputs": [],
   "source": [
    "import pandas as pd\n",
    "import datetime\n",
    "import matplotlib.pyplot as plt\n",
    "import matplotlib\n",
    "%matplotlib inline"
   ]
  },
  {
   "cell_type": "code",
   "execution_count": 3,
   "metadata": {},
   "outputs": [],
   "source": [
    "data =  pd.read_csv('https://raw.githubusercontent.com/microsoft/Bing-COVID-19-Data/master/data/Bing-COVID19-Data.csv')"
   ]
  },
  {
   "cell_type": "code",
   "execution_count": 4,
   "metadata": {},
   "outputs": [],
   "source": [
    "df =  pd.DataFrame(data)"
   ]
  },
  {
   "cell_type": "code",
   "execution_count": 5,
   "metadata": {},
   "outputs": [
    {
     "data": {
      "text/html": [
       "<div>\n",
       "<style scoped>\n",
       "    .dataframe tbody tr th:only-of-type {\n",
       "        vertical-align: middle;\n",
       "    }\n",
       "\n",
       "    .dataframe tbody tr th {\n",
       "        vertical-align: top;\n",
       "    }\n",
       "\n",
       "    .dataframe thead th {\n",
       "        text-align: right;\n",
       "    }\n",
       "</style>\n",
       "<table border=\"1\" class=\"dataframe\">\n",
       "  <thead>\n",
       "    <tr style=\"text-align: right;\">\n",
       "      <th></th>\n",
       "      <th>ID</th>\n",
       "      <th>Updated</th>\n",
       "      <th>Confirmed</th>\n",
       "      <th>ConfirmedChange</th>\n",
       "      <th>Deaths</th>\n",
       "      <th>DeathsChange</th>\n",
       "      <th>Recovered</th>\n",
       "      <th>RecoveredChange</th>\n",
       "      <th>Latitude</th>\n",
       "      <th>Longitude</th>\n",
       "      <th>ISO2</th>\n",
       "      <th>ISO3</th>\n",
       "      <th>Country_Region</th>\n",
       "      <th>AdminRegion1</th>\n",
       "      <th>AdminRegion2</th>\n",
       "    </tr>\n",
       "  </thead>\n",
       "  <tbody>\n",
       "    <tr>\n",
       "      <th>0</th>\n",
       "      <td>338995</td>\n",
       "      <td>01/21/2020</td>\n",
       "      <td>262</td>\n",
       "      <td>NaN</td>\n",
       "      <td>0.0</td>\n",
       "      <td>NaN</td>\n",
       "      <td>NaN</td>\n",
       "      <td>NaN</td>\n",
       "      <td>NaN</td>\n",
       "      <td>NaN</td>\n",
       "      <td>NaN</td>\n",
       "      <td>NaN</td>\n",
       "      <td>Worldwide</td>\n",
       "      <td>NaN</td>\n",
       "      <td>NaN</td>\n",
       "    </tr>\n",
       "    <tr>\n",
       "      <th>1</th>\n",
       "      <td>338996</td>\n",
       "      <td>01/22/2020</td>\n",
       "      <td>313</td>\n",
       "      <td>51.0</td>\n",
       "      <td>0.0</td>\n",
       "      <td>0.0</td>\n",
       "      <td>NaN</td>\n",
       "      <td>NaN</td>\n",
       "      <td>NaN</td>\n",
       "      <td>NaN</td>\n",
       "      <td>NaN</td>\n",
       "      <td>NaN</td>\n",
       "      <td>Worldwide</td>\n",
       "      <td>NaN</td>\n",
       "      <td>NaN</td>\n",
       "    </tr>\n",
       "    <tr>\n",
       "      <th>2</th>\n",
       "      <td>338997</td>\n",
       "      <td>01/23/2020</td>\n",
       "      <td>578</td>\n",
       "      <td>265.0</td>\n",
       "      <td>0.0</td>\n",
       "      <td>0.0</td>\n",
       "      <td>NaN</td>\n",
       "      <td>NaN</td>\n",
       "      <td>NaN</td>\n",
       "      <td>NaN</td>\n",
       "      <td>NaN</td>\n",
       "      <td>NaN</td>\n",
       "      <td>Worldwide</td>\n",
       "      <td>NaN</td>\n",
       "      <td>NaN</td>\n",
       "    </tr>\n",
       "    <tr>\n",
       "      <th>3</th>\n",
       "      <td>338998</td>\n",
       "      <td>01/24/2020</td>\n",
       "      <td>841</td>\n",
       "      <td>263.0</td>\n",
       "      <td>0.0</td>\n",
       "      <td>0.0</td>\n",
       "      <td>NaN</td>\n",
       "      <td>NaN</td>\n",
       "      <td>NaN</td>\n",
       "      <td>NaN</td>\n",
       "      <td>NaN</td>\n",
       "      <td>NaN</td>\n",
       "      <td>Worldwide</td>\n",
       "      <td>NaN</td>\n",
       "      <td>NaN</td>\n",
       "    </tr>\n",
       "    <tr>\n",
       "      <th>4</th>\n",
       "      <td>338999</td>\n",
       "      <td>01/25/2020</td>\n",
       "      <td>1320</td>\n",
       "      <td>479.0</td>\n",
       "      <td>0.0</td>\n",
       "      <td>0.0</td>\n",
       "      <td>NaN</td>\n",
       "      <td>NaN</td>\n",
       "      <td>NaN</td>\n",
       "      <td>NaN</td>\n",
       "      <td>NaN</td>\n",
       "      <td>NaN</td>\n",
       "      <td>Worldwide</td>\n",
       "      <td>NaN</td>\n",
       "      <td>NaN</td>\n",
       "    </tr>\n",
       "  </tbody>\n",
       "</table>\n",
       "</div>"
      ],
      "text/plain": [
       "       ID     Updated  Confirmed  ConfirmedChange  Deaths  DeathsChange  \\\n",
       "0  338995  01/21/2020        262              NaN     0.0           NaN   \n",
       "1  338996  01/22/2020        313             51.0     0.0           0.0   \n",
       "2  338997  01/23/2020        578            265.0     0.0           0.0   \n",
       "3  338998  01/24/2020        841            263.0     0.0           0.0   \n",
       "4  338999  01/25/2020       1320            479.0     0.0           0.0   \n",
       "\n",
       "   Recovered  RecoveredChange  Latitude  Longitude ISO2 ISO3 Country_Region  \\\n",
       "0        NaN              NaN       NaN        NaN  NaN  NaN      Worldwide   \n",
       "1        NaN              NaN       NaN        NaN  NaN  NaN      Worldwide   \n",
       "2        NaN              NaN       NaN        NaN  NaN  NaN      Worldwide   \n",
       "3        NaN              NaN       NaN        NaN  NaN  NaN      Worldwide   \n",
       "4        NaN              NaN       NaN        NaN  NaN  NaN      Worldwide   \n",
       "\n",
       "  AdminRegion1 AdminRegion2  \n",
       "0          NaN          NaN  \n",
       "1          NaN          NaN  \n",
       "2          NaN          NaN  \n",
       "3          NaN          NaN  \n",
       "4          NaN          NaN  "
      ]
     },
     "execution_count": 5,
     "metadata": {},
     "output_type": "execute_result"
    }
   ],
   "source": [
    "df.head()"
   ]
  },
  {
   "cell_type": "code",
   "execution_count": 6,
   "metadata": {},
   "outputs": [],
   "source": [
    "bd_data = df.loc[df['Country_Region'] == 'Bangladesh']\n"
   ]
  },
  {
   "cell_type": "code",
   "execution_count": 8,
   "metadata": {},
   "outputs": [
    {
     "data": {
      "text/html": [
       "<div>\n",
       "<style scoped>\n",
       "    .dataframe tbody tr th:only-of-type {\n",
       "        vertical-align: middle;\n",
       "    }\n",
       "\n",
       "    .dataframe tbody tr th {\n",
       "        vertical-align: top;\n",
       "    }\n",
       "\n",
       "    .dataframe thead th {\n",
       "        text-align: right;\n",
       "    }\n",
       "</style>\n",
       "<table border=\"1\" class=\"dataframe\">\n",
       "  <thead>\n",
       "    <tr style=\"text-align: right;\">\n",
       "      <th></th>\n",
       "      <th>ID</th>\n",
       "      <th>Updated</th>\n",
       "      <th>Confirmed</th>\n",
       "      <th>ConfirmedChange</th>\n",
       "      <th>Deaths</th>\n",
       "      <th>DeathsChange</th>\n",
       "      <th>Recovered</th>\n",
       "      <th>RecoveredChange</th>\n",
       "      <th>Latitude</th>\n",
       "      <th>Longitude</th>\n",
       "      <th>ISO2</th>\n",
       "      <th>ISO3</th>\n",
       "      <th>Country_Region</th>\n",
       "      <th>AdminRegion1</th>\n",
       "      <th>AdminRegion2</th>\n",
       "    </tr>\n",
       "  </thead>\n",
       "  <tbody>\n",
       "    <tr>\n",
       "      <th>3912</th>\n",
       "      <td>7166803</td>\n",
       "      <td>03/08/2020</td>\n",
       "      <td>3</td>\n",
       "      <td>NaN</td>\n",
       "      <td>0.0</td>\n",
       "      <td>NaN</td>\n",
       "      <td>0.0</td>\n",
       "      <td>NaN</td>\n",
       "      <td>23.80488</td>\n",
       "      <td>90.27921</td>\n",
       "      <td>BD</td>\n",
       "      <td>BGD</td>\n",
       "      <td>Bangladesh</td>\n",
       "      <td>NaN</td>\n",
       "      <td>NaN</td>\n",
       "    </tr>\n",
       "    <tr>\n",
       "      <th>3913</th>\n",
       "      <td>341719</td>\n",
       "      <td>03/09/2020</td>\n",
       "      <td>3</td>\n",
       "      <td>0.0</td>\n",
       "      <td>0.0</td>\n",
       "      <td>0.0</td>\n",
       "      <td>NaN</td>\n",
       "      <td>NaN</td>\n",
       "      <td>23.80488</td>\n",
       "      <td>90.27921</td>\n",
       "      <td>BD</td>\n",
       "      <td>BGD</td>\n",
       "      <td>Bangladesh</td>\n",
       "      <td>NaN</td>\n",
       "      <td>NaN</td>\n",
       "    </tr>\n",
       "    <tr>\n",
       "      <th>3914</th>\n",
       "      <td>341720</td>\n",
       "      <td>03/10/2020</td>\n",
       "      <td>3</td>\n",
       "      <td>0.0</td>\n",
       "      <td>0.0</td>\n",
       "      <td>0.0</td>\n",
       "      <td>NaN</td>\n",
       "      <td>NaN</td>\n",
       "      <td>23.80488</td>\n",
       "      <td>90.27921</td>\n",
       "      <td>BD</td>\n",
       "      <td>BGD</td>\n",
       "      <td>Bangladesh</td>\n",
       "      <td>NaN</td>\n",
       "      <td>NaN</td>\n",
       "    </tr>\n",
       "    <tr>\n",
       "      <th>3915</th>\n",
       "      <td>341721</td>\n",
       "      <td>03/11/2020</td>\n",
       "      <td>3</td>\n",
       "      <td>0.0</td>\n",
       "      <td>0.0</td>\n",
       "      <td>0.0</td>\n",
       "      <td>NaN</td>\n",
       "      <td>NaN</td>\n",
       "      <td>23.80488</td>\n",
       "      <td>90.27921</td>\n",
       "      <td>BD</td>\n",
       "      <td>BGD</td>\n",
       "      <td>Bangladesh</td>\n",
       "      <td>NaN</td>\n",
       "      <td>NaN</td>\n",
       "    </tr>\n",
       "    <tr>\n",
       "      <th>3916</th>\n",
       "      <td>341722</td>\n",
       "      <td>03/12/2020</td>\n",
       "      <td>3</td>\n",
       "      <td>0.0</td>\n",
       "      <td>0.0</td>\n",
       "      <td>0.0</td>\n",
       "      <td>NaN</td>\n",
       "      <td>NaN</td>\n",
       "      <td>23.80488</td>\n",
       "      <td>90.27921</td>\n",
       "      <td>BD</td>\n",
       "      <td>BGD</td>\n",
       "      <td>Bangladesh</td>\n",
       "      <td>NaN</td>\n",
       "      <td>NaN</td>\n",
       "    </tr>\n",
       "  </tbody>\n",
       "</table>\n",
       "</div>"
      ],
      "text/plain": [
       "           ID     Updated  Confirmed  ConfirmedChange  Deaths  DeathsChange  \\\n",
       "3912  7166803  03/08/2020          3              NaN     0.0           NaN   \n",
       "3913   341719  03/09/2020          3              0.0     0.0           0.0   \n",
       "3914   341720  03/10/2020          3              0.0     0.0           0.0   \n",
       "3915   341721  03/11/2020          3              0.0     0.0           0.0   \n",
       "3916   341722  03/12/2020          3              0.0     0.0           0.0   \n",
       "\n",
       "      Recovered  RecoveredChange  Latitude  Longitude ISO2 ISO3  \\\n",
       "3912        0.0              NaN  23.80488   90.27921   BD  BGD   \n",
       "3913        NaN              NaN  23.80488   90.27921   BD  BGD   \n",
       "3914        NaN              NaN  23.80488   90.27921   BD  BGD   \n",
       "3915        NaN              NaN  23.80488   90.27921   BD  BGD   \n",
       "3916        NaN              NaN  23.80488   90.27921   BD  BGD   \n",
       "\n",
       "     Country_Region AdminRegion1 AdminRegion2  \n",
       "3912     Bangladesh          NaN          NaN  \n",
       "3913     Bangladesh          NaN          NaN  \n",
       "3914     Bangladesh          NaN          NaN  \n",
       "3915     Bangladesh          NaN          NaN  \n",
       "3916     Bangladesh          NaN          NaN  "
      ]
     },
     "execution_count": 8,
     "metadata": {},
     "output_type": "execute_result"
    }
   ],
   "source": [
    "bd_data.head()"
   ]
  },
  {
   "cell_type": "code",
   "execution_count": 10,
   "metadata": {},
   "outputs": [],
   "source": [
    "x = [datetime.datetime.strptime(d,\"%m/%d/%Y\").date() for d in bd_data['Updated']]"
   ]
  },
  {
   "cell_type": "code",
   "execution_count": 11,
   "metadata": {},
   "outputs": [],
   "source": [
    "y = bd_data['ConfirmedChange']"
   ]
  },
  {
   "cell_type": "code",
   "execution_count": 12,
   "metadata": {},
   "outputs": [
    {
     "data": {
      "text/plain": [
       "[<matplotlib.lines.Line2D at 0x7fb03541d5d0>]"
      ]
     },
     "execution_count": 12,
     "metadata": {},
     "output_type": "execute_result"
    },
    {
     "data": {
      "image/png": "[encoded data removed]",
      "text/plain": [
       "<Figure size 432x288 with 1 Axes>"
      ]
     },
     "metadata": {
      "needs_background": "light"
     },
     "output_type": "display_data"
    }
   ],
   "source": [
    "import matplotlib.pyplot as plt\n",
    "import matplotlib.dates as mdates\n",
    "\n",
    "#plt.gca().xaxis.set_major_formatter(mdates.DateFormatter('%m/%d/%Y'))\n",
    "#plt.gca().xaxis.set_major_locator(mdates.DayLocator())\n",
    "plt.plot(x,y)\n"
   ]
  },
  {
   "cell_type": "code",
   "execution_count": 13,
   "metadata": {
    "scrolled": false
   },
   "outputs": [
    {
     "data": {
      "image/png": "[encoded data removed]",
      "text/plain": [
       "<Figure size 432x288 with 1 Axes>"
      ]
     },
     "metadata": {
      "needs_background": "light"
     },
     "output_type": "display_data"
    }
   ],
   "source": [
    "import numpy as np\n",
    "import matplotlib.pyplot as plt\n",
    "\n",
    "fig, ax = plt.subplots()\n",
    "line, = ax.plot(x, y, color='b')\n",
    "plt.gcf().autofmt_xdate()\n",
    "\n",
    "for n in range(len(x)):\n",
    "    line.set_data(x[:n], y[:n])\n",
    "    #ax.axis([0, 10, 0, 1])\n",
    "    fig.canvas.draw()\n",
    "    fig.savefig('Frame%03d.png' %n)"
   ]
  },
  {
   "cell_type": "code",
   "execution_count": null,
   "metadata": {},
   "outputs": [],
   "source": []
  }
 ],
 "metadata": {
  "kernelspec": {
   "display_name": "Python 3",
   "language": "python",
   "name": "python3"
  },
  "language_info": {
   "codemirror_mode": {
    "name": "ipython",
    "version": 3
   },
   "file_extension": ".py",
   "mimetype": "text/x-python",
   "name": "python",
   "nbconvert_exporter": "python",
   "pygments_lexer": "ipython3",
   "version": "3.7.6"
  }
 },
 "nbformat": 4,
 "nbformat_minor": 4
}
